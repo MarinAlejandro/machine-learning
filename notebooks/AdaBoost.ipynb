{
 "cells": [
  {
   "cell_type": "code",
   "execution_count": 4,
   "metadata": {},
   "outputs": [],
   "source": [
    "import sys\n",
    "sys.path.append(\"..\")\n",
    "\n",
    "from sklearn import datasets\n",
    "import numpy as np"
   ]
  },
  {
   "cell_type": "code",
   "execution_count": 5,
   "metadata": {},
   "outputs": [],
   "source": [
    "data = datasets.load_iris()\n",
    "x = data['data']\n",
    "y = data['target']"
   ]
  },
  {
   "cell_type": "markdown",
   "metadata": {},
   "source": [
    "threshold can be based in the middle point or in data\n",
    "<= for left child \n",
    "values have to be sorted(nlogn) but to calculate information gain we can take advantage of the sort\n"
   ]
  },
  {
   "cell_type": "code",
   "execution_count": 6,
   "metadata": {},
   "outputs": [
    {
     "name": "stdout",
     "output_type": "stream",
     "text": [
      "Adaboost with 1 classifiers accuracy: 0.96\n",
      "Adaboost with 10 classifiers accuracy: 0.96\n",
      "Adaboost with 100 classifiers accuracy: 0.96\n",
      "Adaboost with 1000 classifiers accuracy: 0.96\n"
     ]
    }
   ],
   "source": [
    "from metrics import accuracy\n",
    "from boosting import AdaBoost\n",
    "\n",
    "for i in range(4):\n",
    "    n_classifiers = 10**i\n",
    "    clf = AdaBoost(n_classifiers)\n",
    "    clf.train(x, y)\n",
    "    y_pred = clf.predict(x)\n",
    "    accuracy_i = accuracy(y, y_pred)\n",
    "    print(f'Adaboost with {n_classifiers} classifiers accuracy: {accuracy_i :.2f}')\n",
    "    "
   ]
  },
  {
   "cell_type": "code",
   "execution_count": 7,
   "metadata": {},
   "outputs": [
    {
     "name": "stdout",
     "output_type": "stream",
     "text": [
      "scikit-learn Adaboost with 1 classifiers accuracy: 0.67\n",
      "scikit-learn Adaboost with 10 classifiers accuracy: 0.96\n",
      "scikit-learn Adaboost with 100 classifiers accuracy: 0.97\n",
      "scikit-learn Adaboost with 1000 classifiers accuracy: 0.97\n"
     ]
    }
   ],
   "source": [
    "from sklearn.ensemble import AdaBoostClassifier\n",
    "\n",
    "for i in range(4):\n",
    "    n_classifiers = 10**i\n",
    "    \n",
    "    clf = AdaBoostClassifier(n_estimators = n_classifiers)\n",
    "    clf.fit(x, y)\n",
    "    y_pred = clf.predict(x)\n",
    "    accuracy_i = accuracy(y, y_pred)\n",
    "    print(f'scikit-learn Adaboost with {n_classifiers} classifiers accuracy: {accuracy_i :.2f}')\n",
    "\n",
    "\n",
    "\n",
    "\n"
   ]
  },
  {
   "cell_type": "code",
   "execution_count": null,
   "metadata": {},
   "outputs": [],
   "source": []
  }
 ],
 "metadata": {
  "kernelspec": {
   "display_name": "Python 3",
   "language": "python",
   "name": "python3"
  },
  "language_info": {
   "codemirror_mode": {
    "name": "ipython",
    "version": 3
   },
   "file_extension": ".py",
   "mimetype": "text/x-python",
   "name": "python",
   "nbconvert_exporter": "python",
   "pygments_lexer": "ipython3",
   "version": "3.6.5"
  }
 },
 "nbformat": 4,
 "nbformat_minor": 2
}
